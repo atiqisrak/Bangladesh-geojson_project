{
 "cells": [
  {
   "cell_type": "code",
   "execution_count": 2,
   "id": "initial_id",
   "metadata": {
    "ExecuteTime": {
     "end_time": "2023-12-12T20:23:50.646685800Z",
     "start_time": "2023-12-12T20:23:50.053286200Z"
    },
    "collapsed": true
   },
   "outputs": [],
   "source": [
    "import pandas as pd\n",
    "import numpy as np\n",
    "import json\n",
    "from osgeo import ogr\n",
    "import shapeTojson"
   ]
  },
  {
   "cell_type": "markdown",
   "id": "ade35db8",
   "metadata": {},
   "source": [
    "# Creating Geo Json from Shape file\n",
    "\n",
    "All the 64 files in this folder contains different important informations. Make sure there is nothing missing."
   ]
  },
  {
   "cell_type": "code",
   "execution_count": 3,
   "id": "7034939e7e237435",
   "metadata": {
    "ExecuteTime": {
     "end_time": "2023-12-12T20:27:03.398335Z",
     "start_time": "2023-12-12T20:26:53.153909Z"
    },
    "collapsed": false
   },
   "outputs": [],
   "source": [
    "# shapeTojson.shp2json('Shape_files/bgd_admbnda_adm0_bbs_20201113.shp')"
   ]
  },
  {
   "cell_type": "markdown",
   "id": "a00e9de8",
   "metadata": {},
   "source": [
    "# Reading Geo Json Files\n",
    "\n",
    "I renamed `bgd_admbnda_adm1_bbs_20201113.json` to `BD Divisions` for easy understanding"
   ]
  },
  {
   "cell_type": "code",
   "execution_count": 4,
   "id": "7f150d02",
   "metadata": {},
   "outputs": [
    {
     "data": {
      "text/plain": [
       "{'Shape_Leng': 25.424604387,\n",
       " 'Shape_Area': 0.889395137451,\n",
       " 'ADM1_EN': 'Barisal',\n",
       " 'ADM1_PCODE': 'BD10',\n",
       " 'ADM1_REF': None,\n",
       " 'ADM1ALT1EN': None,\n",
       " 'ADM1ALT2EN': None,\n",
       " 'ADM0_EN': 'Bangladesh',\n",
       " 'ADM0_PCODE': 'BD',\n",
       " 'date': '2015/01/01',\n",
       " 'validOn': '2020/11/13',\n",
       " 'validTo': None}"
      ]
     },
     "execution_count": 4,
     "metadata": {},
     "output_type": "execute_result"
    }
   ],
   "source": [
    "bd_div = json.load(open('Geo Json Maps/BD_Divisions.json', 'r'))\n",
    "bd_div['features'][0]['properties']"
   ]
  },
  {
   "cell_type": "code",
   "execution_count": 5,
   "id": "a4b01970a934d8b3",
   "metadata": {
    "ExecuteTime": {
     "end_time": "2023-12-12T20:32:08.035921300Z",
     "start_time": "2023-12-12T20:32:06.126971300Z"
    },
    "collapsed": false
   },
   "outputs": [
    {
     "data": {
      "text/plain": [
       "{'Shape_Leng': 12.9298161737,\n",
       " 'Shape_Area': 0.319708678277,\n",
       " 'ADM2_EN': 'Bagerhat',\n",
       " 'ADM2_PCODE': 'BD4001',\n",
       " 'ADM2_REF': None,\n",
       " 'ADM2ALT1EN': None,\n",
       " 'ADM2ALT2EN': None,\n",
       " 'ADM1_EN': 'Khulna',\n",
       " 'ADM1_PCODE': 'BD40',\n",
       " 'ADM0_EN': 'Bangladesh',\n",
       " 'ADM0_PCODE': 'BD',\n",
       " 'date': '2015/01/01',\n",
       " 'validOn': '2020/11/13',\n",
       " 'ValidTo': None}"
      ]
     },
     "execution_count": 5,
     "metadata": {},
     "output_type": "execute_result"
    }
   ],
   "source": [
    "bd_dist = json.load(open('Geo Json Maps/BD_Districts.json', 'r'))\n",
    "bd_dist['features'][0]['properties']"
   ]
  },
  {
   "cell_type": "code",
   "execution_count": 6,
   "id": "3c955025",
   "metadata": {},
   "outputs": [
    {
     "data": {
      "text/plain": [
       "'Barisal'"
      ]
     },
     "execution_count": 6,
     "metadata": {},
     "output_type": "execute_result"
    }
   ],
   "source": [
    "bd_div['features'][0]['properties']['ADM1_EN']"
   ]
  },
  {
   "cell_type": "markdown",
   "id": "b4a09206ebcd6f3c",
   "metadata": {
    "collapsed": false
   },
   "source": [
    "# District Map"
   ]
  },
  {
   "cell_type": "code",
   "execution_count": 7,
   "id": "9f8a0002293042f8",
   "metadata": {
    "ExecuteTime": {
     "end_time": "2023-12-12T20:34:09.917182300Z",
     "start_time": "2023-12-12T20:34:08.251158200Z"
    },
    "collapsed": false
   },
   "outputs": [
    {
     "data": {
      "text/plain": [
       "{'Bagerhat': 0,\n",
       " 'Bandarban': 1,\n",
       " 'Barguna': 2,\n",
       " 'Barisal': 3,\n",
       " 'Bhola': 4,\n",
       " 'Bogra': 5,\n",
       " 'Brahamanbaria': 6,\n",
       " 'Chandpur': 7,\n",
       " 'Chittagong': 8,\n",
       " 'Chuadanga': 9,\n",
       " 'Comilla': 10,\n",
       " \"Cox's Bazar\": 11,\n",
       " 'Dhaka': 12,\n",
       " 'Dinajpur': 13,\n",
       " 'Faridpur': 14,\n",
       " 'Feni': 15,\n",
       " 'Gaibandha': 16,\n",
       " 'Gazipur': 17,\n",
       " 'Gopalganj': 18,\n",
       " 'Habiganj': 19,\n",
       " 'Jamalpur': 20,\n",
       " 'Jessore': 21,\n",
       " 'Jhalokati': 22,\n",
       " 'Jhenaidah': 23,\n",
       " 'Joypurhat': 24,\n",
       " 'Khagrachhari': 25,\n",
       " 'Khulna': 26,\n",
       " 'Kishoreganj': 27,\n",
       " 'Kurigram': 28,\n",
       " 'Kushtia': 29,\n",
       " 'Lakshmipur': 30,\n",
       " 'Lalmonirhat': 31,\n",
       " 'Madaripur': 32,\n",
       " 'Magura': 33,\n",
       " 'Manikganj': 34,\n",
       " 'Maulvibazar': 35,\n",
       " 'Meherpur': 36,\n",
       " 'Munshiganj': 37,\n",
       " 'Mymensingh': 38,\n",
       " 'Naogaon': 39,\n",
       " 'Narail': 40,\n",
       " 'Narayanganj': 41,\n",
       " 'Narsingdi': 42,\n",
       " 'Natore': 43,\n",
       " 'Nawabganj': 44,\n",
       " 'Netrakona': 45,\n",
       " 'Nilphamari': 46,\n",
       " 'Noakhali': 47,\n",
       " 'Pabna': 48,\n",
       " 'Panchagarh': 49,\n",
       " 'Patuakhali': 50,\n",
       " 'Pirojpur': 51,\n",
       " 'Rajbari': 52,\n",
       " 'Rajshahi': 53,\n",
       " 'Rangamati': 54,\n",
       " 'Rangpur': 55,\n",
       " 'Satkhira': 56,\n",
       " 'Shariatpur': 57,\n",
       " 'Sherpur': 58,\n",
       " 'Sirajganj': 59,\n",
       " 'Sunamganj': 60,\n",
       " 'Sylhet': 61,\n",
       " 'Tangail': 62,\n",
       " 'Thakurgaon': 63}"
      ]
     },
     "execution_count": 7,
     "metadata": {},
     "output_type": "execute_result"
    }
   ],
   "source": [
    "district_id_map = {}\n",
    "for i in range(len(bd_dist['features'])):\n",
    "    district_id_map[bd_dist['features'][i]['properties']['ADM2_EN']] = bd_dist['features'][i]['id']\n",
    "    \n",
    "district_id_map"
   ]
  },
  {
   "cell_type": "code",
   "execution_count": 8,
   "id": "64010ecaec9c4baa",
   "metadata": {
    "ExecuteTime": {
     "end_time": "2023-12-12T20:34:35.698535500Z",
     "start_time": "2023-12-12T20:34:34.086335700Z"
    },
    "collapsed": false
   },
   "outputs": [
    {
     "data": {
      "text/plain": [
       "64"
      ]
     },
     "execution_count": 8,
     "metadata": {},
     "output_type": "execute_result"
    }
   ],
   "source": [
    "len(district_id_map)"
   ]
  },
  {
   "cell_type": "markdown",
   "id": "2f8fa3a0b9c9126a",
   "metadata": {
    "collapsed": false
   },
   "source": [
    "# Division Map"
   ]
  },
  {
   "cell_type": "code",
   "execution_count": 9,
   "id": "c68fdc79",
   "metadata": {},
   "outputs": [
    {
     "data": {
      "text/plain": [
       "{'Barisal': 0,\n",
       " 'Chittagong': 1,\n",
       " 'Dhaka': 2,\n",
       " 'Khulna': 3,\n",
       " 'Mymensingh': 4,\n",
       " 'Rajshahi': 5,\n",
       " 'Rangpur': 6,\n",
       " 'Sylhet': 7}"
      ]
     },
     "execution_count": 9,
     "metadata": {},
     "output_type": "execute_result"
    }
   ],
   "source": [
    "division_id_map = {}\n",
    "for i in range(len(bd_div['features'])):\n",
    "    division_id_map[bd_div['features'][i]['properties']['ADM1_EN']] = bd_div['features'][i]['id']\n",
    "    \n",
    "division_id_map"
   ]
  },
  {
   "cell_type": "markdown",
   "id": "fe4a6b6f087e50a",
   "metadata": {
    "collapsed": false
   },
   "source": [
    "# Creating Dictionary"
   ]
  },
  {
   "cell_type": "code",
   "execution_count": 10,
   "id": "4773acc7c39b13bc",
   "metadata": {
    "ExecuteTime": {
     "end_time": "2023-12-12T20:35:15.233355500Z",
     "start_time": "2023-12-12T20:35:15.157145100Z"
    },
    "collapsed": false
   },
   "outputs": [
    {
     "name": "stdout",
     "output_type": "stream",
     "text": [
      "     Division     False   True     Total\n",
      "0  Mymensingh   29496.0   25.0   29521.0\n",
      "1     Barisal   77472.0  244.0   77716.0\n",
      "2      Sylhet  114314.0  147.0  114461.0\n",
      "3     Rangpur  177595.0  142.0  177737.0\n",
      "4    Rajshahi  220127.0  627.0  220754.0\n",
      "5       Dhaka  221650.0  420.0  222070.0\n",
      "6      Khulna  230609.0  660.0  231269.0\n",
      "7  Chittagong  269934.0  752.0  270686.0\n"
     ]
    }
   ],
   "source": [
    "# Demo dataset\n",
    "\n",
    "division_ill  = {\n",
    "    'Division': ['Mymensingh', 'Barisal', 'Sylhet', 'Rangpur', 'Rajshahi', 'Dhaka', 'Khulna', 'Chittagong'],\n",
    "    'False': [29496.00, 77472.00, 114314.00, 177595.00, 220127.00, 221650.00, 230609.00, 269934.00],\n",
    "    'True': [25.00, 244.00, 147.00, 142.00, 627.00, 420.00, 660.00, 752.00],\n",
    "    'Total': [29521.00, 77716.00, 114461.00, 177737.00, 220754.00, 222070.00, 231269.00, 270686.00]\n",
    "}\n",
    "\n",
    "division_ill = pd.DataFrame(division_ill)\n",
    "\n",
    "# Display the DataFrame\n",
    "print(division_ill)\n"
   ]
  },
  {
   "cell_type": "code",
   "execution_count": 11,
   "id": "ba8a5f25f48040ba",
   "metadata": {
    "ExecuteTime": {
     "end_time": "2023-12-12T19:22:53.193819400Z",
     "start_time": "2023-12-12T19:22:52.649716400Z"
    },
    "collapsed": false
   },
   "outputs": [
    {
     "data": {
      "text/html": [
       "<div>\n",
       "<style scoped>\n",
       "    .dataframe tbody tr th:only-of-type {\n",
       "        vertical-align: middle;\n",
       "    }\n",
       "\n",
       "    .dataframe tbody tr th {\n",
       "        vertical-align: top;\n",
       "    }\n",
       "\n",
       "    .dataframe thead th {\n",
       "        text-align: right;\n",
       "    }\n",
       "</style>\n",
       "<table border=\"1\" class=\"dataframe\">\n",
       "  <thead>\n",
       "    <tr style=\"text-align: right;\">\n",
       "      <th></th>\n",
       "      <th>Division</th>\n",
       "      <th>False</th>\n",
       "      <th>True</th>\n",
       "      <th>Total</th>\n",
       "      <th>id</th>\n",
       "    </tr>\n",
       "  </thead>\n",
       "  <tbody>\n",
       "    <tr>\n",
       "      <th>0</th>\n",
       "      <td>Mymensingh</td>\n",
       "      <td>29496.0</td>\n",
       "      <td>25.0</td>\n",
       "      <td>29521.0</td>\n",
       "      <td>4</td>\n",
       "    </tr>\n",
       "    <tr>\n",
       "      <th>1</th>\n",
       "      <td>Barisal</td>\n",
       "      <td>77472.0</td>\n",
       "      <td>244.0</td>\n",
       "      <td>77716.0</td>\n",
       "      <td>0</td>\n",
       "    </tr>\n",
       "    <tr>\n",
       "      <th>2</th>\n",
       "      <td>Sylhet</td>\n",
       "      <td>114314.0</td>\n",
       "      <td>147.0</td>\n",
       "      <td>114461.0</td>\n",
       "      <td>7</td>\n",
       "    </tr>\n",
       "    <tr>\n",
       "      <th>3</th>\n",
       "      <td>Rangpur</td>\n",
       "      <td>177595.0</td>\n",
       "      <td>142.0</td>\n",
       "      <td>177737.0</td>\n",
       "      <td>6</td>\n",
       "    </tr>\n",
       "    <tr>\n",
       "      <th>4</th>\n",
       "      <td>Rajshahi</td>\n",
       "      <td>220127.0</td>\n",
       "      <td>627.0</td>\n",
       "      <td>220754.0</td>\n",
       "      <td>5</td>\n",
       "    </tr>\n",
       "    <tr>\n",
       "      <th>5</th>\n",
       "      <td>Dhaka</td>\n",
       "      <td>221650.0</td>\n",
       "      <td>420.0</td>\n",
       "      <td>222070.0</td>\n",
       "      <td>2</td>\n",
       "    </tr>\n",
       "    <tr>\n",
       "      <th>6</th>\n",
       "      <td>Khulna</td>\n",
       "      <td>230609.0</td>\n",
       "      <td>660.0</td>\n",
       "      <td>231269.0</td>\n",
       "      <td>3</td>\n",
       "    </tr>\n",
       "    <tr>\n",
       "      <th>7</th>\n",
       "      <td>Chittagong</td>\n",
       "      <td>269934.0</td>\n",
       "      <td>752.0</td>\n",
       "      <td>270686.0</td>\n",
       "      <td>1</td>\n",
       "    </tr>\n",
       "  </tbody>\n",
       "</table>\n",
       "</div>"
      ],
      "text/plain": [
       "     Division     False   True     Total  id\n",
       "0  Mymensingh   29496.0   25.0   29521.0   4\n",
       "1     Barisal   77472.0  244.0   77716.0   0\n",
       "2      Sylhet  114314.0  147.0  114461.0   7\n",
       "3     Rangpur  177595.0  142.0  177737.0   6\n",
       "4    Rajshahi  220127.0  627.0  220754.0   5\n",
       "5       Dhaka  221650.0  420.0  222070.0   2\n",
       "6      Khulna  230609.0  660.0  231269.0   3\n",
       "7  Chittagong  269934.0  752.0  270686.0   1"
      ]
     },
     "execution_count": 11,
     "metadata": {},
     "output_type": "execute_result"
    }
   ],
   "source": [
    "division_ill['id'] = division_ill['Division'].map(division_id_map)\n",
    "division_ill"
   ]
  },
  {
   "cell_type": "markdown",
   "id": "7880876171b035d5",
   "metadata": {
    "collapsed": false
   },
   "source": [
    "# Plotly"
   ]
  },
  {
   "cell_type": "code",
   "execution_count": 12,
   "id": "741ddfb2a662d9e2",
   "metadata": {
    "ExecuteTime": {
     "end_time": "2023-12-12T19:21:10.966884200Z",
     "start_time": "2023-12-12T19:21:10.773825800Z"
    },
    "collapsed": false
   },
   "outputs": [],
   "source": [
    "import plotly.express as px\n",
    "import plotly.io as pio\n",
    "\n",
    "# render the figure in browser\n",
    "pio.renderers.default = \"browser\""
   ]
  },
  {
   "cell_type": "markdown",
   "id": "a947fab2",
   "metadata": {},
   "source": [
    "## Show Map"
   ]
  },
  {
   "cell_type": "code",
   "execution_count": 13,
   "id": "f2a07aeee5145696",
   "metadata": {
    "ExecuteTime": {
     "end_time": "2023-12-12T19:23:32.863132900Z",
     "start_time": "2023-12-12T19:23:32.731072900Z"
    },
    "collapsed": false
   },
   "outputs": [],
   "source": [
    "fig = px.choropleth(\n",
    "    division_ill,\n",
    "    locations='id',\n",
    "    geojson=bd_div,\n",
    "    color='True',   # Name of the column from your dataset\n",
    "    scope='asia',\n",
    "    hover_name='Division',\n",
    "    hover_data=['True']\n",
    "    \n",
    ")\n",
    "fig.update_geos(fitbounds = \"locations\", visible=False)\n",
    "\n",
    "fig.show()"
   ]
  },
  {
   "cell_type": "markdown",
   "id": "b18b1a5b",
   "metadata": {},
   "source": [
    "## Show Mapbox"
   ]
  },
  {
   "cell_type": "code",
   "execution_count": 14,
   "id": "64a63216",
   "metadata": {},
   "outputs": [],
   "source": [
    "fig = px.choropleth_mapbox(\n",
    "    division_ill,\n",
    "    locations='id',\n",
    "    geojson=bd_div,\n",
    "    color='True',\n",
    "    hover_name='Division',\n",
    "    hover_data=['True'],\n",
    "    mapbox_style=\"carto-positron\",\n",
    "    zoom=6,\n",
    "    opacity=0.7,\n",
    "    center = {\"lat\": 23.68, \"lon\": 90.35},\n",
    "    labels={'True':'Ill in Division'},\n",
    "    )\n",
    "\n",
    "fig.show()"
   ]
  }
 ],
 "metadata": {
  "kernelspec": {
   "display_name": "Python 3",
   "language": "python",
   "name": "python3"
  },
  "language_info": {
   "codemirror_mode": {
    "name": "ipython",
    "version": 3
   },
   "file_extension": ".py",
   "mimetype": "text/x-python",
   "name": "python",
   "nbconvert_exporter": "python",
   "pygments_lexer": "ipython3",
   "version": "3.9.15"
  }
 },
 "nbformat": 4,
 "nbformat_minor": 5
}
